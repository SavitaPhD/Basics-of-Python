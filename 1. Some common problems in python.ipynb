{
 "cells": [
  {
   "cell_type": "markdown",
   "id": "261e415d",
   "metadata": {},
   "source": [
    "## Problem 1: Finding the Maximum Value\n",
    "Problem Description:\n",
    "Write a Python function that finds the maximum value in a given list of integers.\n",
    "\n"
   ]
  },
  {
   "cell_type": "code",
   "execution_count": 1,
   "id": "7eddb7b6",
   "metadata": {},
   "outputs": [
    {
     "name": "stdout",
     "output_type": "stream",
     "text": [
      "The maximum value is: 9\n"
     ]
    }
   ],
   "source": [
    "def find_max_value(numbers):\n",
    "    if not numbers:\n",
    "        return None\n",
    "    max_value = numbers[0]\n",
    "    for num in numbers:\n",
    "        if num > max_value:\n",
    "            max_value = num\n",
    "    return max_value\n",
    "\n",
    "# Example usage:\n",
    "numbers = [3, 7, 1, 9, 4, 2]\n",
    "max_value = find_max_value(numbers)\n",
    "print(f\"The maximum value is: {max_value}\")\n"
   ]
  },
  {
   "cell_type": "markdown",
   "id": "8b02e076",
   "metadata": {},
   "source": [
    "## Problem 2: Palindrome Check\n",
    "Problem Description:\n",
    "Write a Python function to check if a given string is a palindrome (reads the same forwards and backwards)."
   ]
  },
  {
   "cell_type": "code",
   "execution_count": 3,
   "id": "47a2c247",
   "metadata": {},
   "outputs": [
    {
     "name": "stdout",
     "output_type": "stream",
     "text": [
      "racecar is a palindrome: True\n",
      "hello is a palindrome: False\n"
     ]
    }
   ],
   "source": [
    "def is_palindrome(s):\n",
    "    s = s.lower().replace(\" \", \"\")  # Convert to lowercase and remove spaces\n",
    "    return s == s[::-1]\n",
    "\n",
    "# Example usage:\n",
    "string1 = \"racecar\"\n",
    "string2 = \"hello\"\n",
    "print(f\"{string1} is a palindrome: {is_palindrome(string1)}\")\n",
    "print(f\"{string2} is a palindrome: {is_palindrome(string2)}\")\n"
   ]
  },
  {
   "cell_type": "markdown",
   "id": "f3bf8e02",
   "metadata": {},
   "source": [
    "## Problem 3: Fibonacci Sequence\n",
    "Problem Description:\n",
    "Write a Python function to generate the first n terms of the Fibonacci sequence.\n",
    "\n"
   ]
  },
  {
   "cell_type": "code",
   "execution_count": 4,
   "id": "20d57447",
   "metadata": {},
   "outputs": [
    {
     "name": "stdout",
     "output_type": "stream",
     "text": [
      "The first 10 terms of the Fibonacci sequence are: [0, 1, 1, 2, 3, 5, 8, 13, 21, 34]\n"
     ]
    }
   ],
   "source": [
    "def fibonacci(n):\n",
    "    if n <= 0:\n",
    "        return []\n",
    "    elif n == 1:\n",
    "        return [0]\n",
    "    elif n == 2:\n",
    "        return [0, 1]\n",
    "    \n",
    "    fib_sequence = [0, 1]\n",
    "    while len(fib_sequence) < n:\n",
    "        next_term = fib_sequence[-1] + fib_sequence[-2]\n",
    "        fib_sequence.append(next_term)\n",
    "    \n",
    "    return fib_sequence\n",
    "\n",
    "# Example usage:\n",
    "n = 10\n",
    "fib_sequence = fibonacci(n)\n",
    "print(f\"The first {n} terms of the Fibonacci sequence are: {fib_sequence}\")\n"
   ]
  },
  {
   "cell_type": "markdown",
   "id": "a873276e",
   "metadata": {},
   "source": [
    "## Problem 4: Anagram Check\n",
    "Problem Description:\n",
    "Write a Python function that checks if two given strings are anagrams of each other.\n"
   ]
  },
  {
   "cell_type": "code",
   "execution_count": 5,
   "id": "b6b14e01",
   "metadata": {},
   "outputs": [
    {
     "name": "stdout",
     "output_type": "stream",
     "text": [
      "listen and silent are anagrams: True\n"
     ]
    }
   ],
   "source": [
    "def are_anagrams(str1, str2):\n",
    "    str1 = str1.replace(\" \", \"\").lower()\n",
    "    str2 = str2.replace(\" \", \"\").lower()\n",
    "    return sorted(str1) == sorted(str2)\n",
    "\n",
    "# Example usage:\n",
    "word1 = \"listen\"\n",
    "word2 = \"silent\"\n",
    "print(f\"{word1} and {word2} are anagrams: {are_anagrams(word1, word2)}\")\n"
   ]
  },
  {
   "cell_type": "markdown",
   "id": "5c9b323e",
   "metadata": {},
   "source": [
    "## Problem 5: Prime Number Check\n",
    "Problem Description:\n",
    "Write a Python function that checks if a given integer is a prime number.\n",
    "\n"
   ]
  },
  {
   "cell_type": "code",
   "execution_count": 6,
   "id": "7370c8bd",
   "metadata": {},
   "outputs": [
    {
     "name": "stdout",
     "output_type": "stream",
     "text": [
      "17 is a prime number: True\n"
     ]
    }
   ],
   "source": [
    "def is_prime(n):\n",
    "    if n <= 1:\n",
    "        return False\n",
    "    for i in range(2, int(n**0.5) + 1):\n",
    "        if n % i == 0:\n",
    "            return False\n",
    "    return True\n",
    "\n",
    "# Example usage:\n",
    "number = 17\n",
    "print(f\"{number} is a prime number: {is_prime(number)}\")\n"
   ]
  },
  {
   "cell_type": "markdown",
   "id": "c63e9337",
   "metadata": {},
   "source": [
    "## Problem 6: Reverse a String\n",
    "Problem Description:\n",
    "Write a Python function to reverse a given string without using built-in string reversal functions."
   ]
  },
  {
   "cell_type": "code",
   "execution_count": 7,
   "id": "722807db",
   "metadata": {},
   "outputs": [
    {
     "name": "stdout",
     "output_type": "stream",
     "text": [
      "The reversed string is: !dlrow ,olleh\n"
     ]
    }
   ],
   "source": [
    "def reverse_string(s):\n",
    "    reversed_str = \"\"\n",
    "    for char in s:\n",
    "        reversed_str = char + reversed_str\n",
    "    return reversed_str\n",
    "\n",
    "# Example usage:\n",
    "string = \"hello, world!\"\n",
    "reversed = reverse_string(string)\n",
    "print(f\"The reversed string is: {reversed}\")\n"
   ]
  },
  {
   "cell_type": "markdown",
   "id": "cc7b5be9",
   "metadata": {},
   "source": [
    "## Problem 7: Count Words in a Sentence\n",
    "Problem Description:\n",
    "Write a Python function to count the number of words in a given sentence.\n",
    "\n"
   ]
  },
  {
   "cell_type": "code",
   "execution_count": 8,
   "id": "17eaef4c",
   "metadata": {},
   "outputs": [
    {
     "name": "stdout",
     "output_type": "stream",
     "text": [
      "The sentence contains 8 words.\n"
     ]
    }
   ],
   "source": [
    "def count_words(sentence):\n",
    "    words = sentence.split()\n",
    "    return len(words)\n",
    "\n",
    "# Example usage:\n",
    "text = \"This is a sample sentence with several words.\"\n",
    "word_count = count_words(text)\n",
    "print(f\"The sentence contains {word_count} words.\")\n"
   ]
  },
  {
   "cell_type": "markdown",
   "id": "af013afb",
   "metadata": {},
   "source": [
    "## Problem 8: Merge Sorted Arrays\n",
    "Problem Description:\n",
    "Write a Python function that takes two sorted lists and merges them into a single sorted list.\n"
   ]
  },
  {
   "cell_type": "code",
   "execution_count": 9,
   "id": "39d9763a",
   "metadata": {},
   "outputs": [
    {
     "name": "stdout",
     "output_type": "stream",
     "text": [
      "The merged sorted list is: [1, 2, 3, 4, 5, 6]\n"
     ]
    }
   ],
   "source": [
    "def merge_sorted_lists(list1, list2):\n",
    "    merged = []\n",
    "    i = j = 0\n",
    "\n",
    "    while i < len(list1) and j < len(list2):\n",
    "        if list1[i] < list2[j]:\n",
    "            merged.append(list1[i])\n",
    "            i += 1\n",
    "        else:\n",
    "            merged.append(list2[j])\n",
    "            j += 1\n",
    "\n",
    "    merged.extend(list1[i:])\n",
    "    merged.extend(list2[j:])\n",
    "    return merged\n",
    "\n",
    "# Example usage:\n",
    "list1 = [1, 3, 5]\n",
    "list2 = [2, 4, 6]\n",
    "merged_list = merge_sorted_lists(list1, list2)\n",
    "print(f\"The merged sorted list is: {merged_list}\")\n"
   ]
  },
  {
   "cell_type": "markdown",
   "id": "4e7328c9",
   "metadata": {},
   "source": [
    "## Problem 9: Calculate Factorial\n",
    "Problem Description:\n",
    "Write a Python function to calculate the factorial of a non-negative integer.\n",
    "\n"
   ]
  },
  {
   "cell_type": "code",
   "execution_count": 10,
   "id": "76f6a469",
   "metadata": {},
   "outputs": [
    {
     "name": "stdout",
     "output_type": "stream",
     "text": [
      "The factorial of 5 is 120\n"
     ]
    }
   ],
   "source": [
    "def factorial(n):\n",
    "    if n == 0:\n",
    "        return 1\n",
    "    result = 1\n",
    "    for i in range(1, n + 1):\n",
    "        result *= i\n",
    "    return result\n",
    "\n",
    "# Example usage:\n",
    "n = 5\n",
    "fact = factorial(n)\n",
    "print(f\"The factorial of {n} is {fact}\")\n"
   ]
  },
  {
   "cell_type": "markdown",
   "id": "ce216233",
   "metadata": {},
   "source": [
    "## Problem 10: Check for Balanced Brackets\n",
    "Problem Description:\n",
    "Write a Python function to check if a given string of brackets (e.g., (), [], {}) is balanced."
   ]
  },
  {
   "cell_type": "code",
   "execution_count": 11,
   "id": "e4163ef6",
   "metadata": {},
   "outputs": [
    {
     "name": "stdout",
     "output_type": "stream",
     "text": [
      "The expression is balanced: True\n"
     ]
    }
   ],
   "source": [
    "def is_balanced_brackets(s):\n",
    "    stack = []\n",
    "    brackets = {\"(\": \")\", \"[\": \"]\", \"{\": \"}\"}\n",
    "    for char in s:\n",
    "        if char in brackets.keys():\n",
    "            stack.append(char)\n",
    "        elif char in brackets.values():\n",
    "            if not stack or brackets[stack.pop()] != char:\n",
    "                return False\n",
    "    return len(stack) == 0\n",
    "\n",
    "# Example usage:\n",
    "expression = \"{[()()]}\"\n",
    "balanced = is_balanced_brackets(expression)\n",
    "print(f\"The expression is balanced: {balanced}\")\n"
   ]
  },
  {
   "cell_type": "markdown",
   "id": "af6abb51",
   "metadata": {},
   "source": [
    "## Problem 11: Find Missing Number in an Array\n",
    "Problem Description:\n",
    "Write a Python function to find the missing number in an array of integers from 1 to n.\n",
    "\n"
   ]
  },
  {
   "cell_type": "code",
   "execution_count": 12,
   "id": "031cea75",
   "metadata": {},
   "outputs": [
    {
     "name": "stdout",
     "output_type": "stream",
     "text": [
      "The missing number is: 3\n"
     ]
    }
   ],
   "source": [
    "def find_missing_number(nums):\n",
    "    n = len(nums) + 1\n",
    "    expected_sum = n * (n + 1) // 2\n",
    "    actual_sum = sum(nums)\n",
    "    return expected_sum - actual_sum\n",
    "\n",
    "# Example usage:\n",
    "numbers = [1, 2, 4, 5]\n",
    "missing = find_missing_number(numbers)\n",
    "print(f\"The missing number is: {missing}\")\n"
   ]
  },
  {
   "cell_type": "markdown",
   "id": "de6b254c",
   "metadata": {},
   "source": [
    "## Problem 12: Binary Search\n",
    "Problem Description:\n",
    "Write a Python function to perform binary search in a sorted list to find a target element.\n",
    "\n"
   ]
  },
  {
   "cell_type": "code",
   "execution_count": 13,
   "id": "d4af0833",
   "metadata": {},
   "outputs": [
    {
     "name": "stdout",
     "output_type": "stream",
     "text": [
      "The target element is at index: 3\n"
     ]
    }
   ],
   "source": [
    "def binary_search(arr, target):\n",
    "    left, right = 0, len(arr) - 1\n",
    "    while left <= right:\n",
    "        mid = left + (right - left) // 2\n",
    "        if arr[mid] == target:\n",
    "            return mid\n",
    "        elif arr[mid] < target:\n",
    "            left = mid + 1\n",
    "        else:\n",
    "            right = mid - 1\n",
    "    return -1\n",
    "\n",
    "# Example usage:\n",
    "sorted_list = [1, 3, 5, 7, 9, 11, 13]\n",
    "target = 7\n",
    "index = binary_search(sorted_list, target)\n",
    "print(f\"The target element is at index: {index}\")\n"
   ]
  },
  {
   "cell_type": "code",
   "execution_count": null,
   "id": "1739458d",
   "metadata": {},
   "outputs": [],
   "source": []
  }
 ],
 "metadata": {
  "kernelspec": {
   "display_name": "Python 3 (ipykernel)",
   "language": "python",
   "name": "python3"
  },
  "language_info": {
   "codemirror_mode": {
    "name": "ipython",
    "version": 3
   },
   "file_extension": ".py",
   "mimetype": "text/x-python",
   "name": "python",
   "nbconvert_exporter": "python",
   "pygments_lexer": "ipython3",
   "version": "3.8.17"
  }
 },
 "nbformat": 4,
 "nbformat_minor": 5
}
